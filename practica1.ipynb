{
  "cells": [
    {
      "cell_type": "markdown",
      "metadata": {
        "id": "ikDv2432Z0D_"
      },
      "source": [
        "# Práctica 1. Introducción a Python\n",
        "\n",
        "Objetivos de la práctica:\n",
        "- Familiarizarnos con el lenguaje Python.\n",
        "     - Familiarizarnos con el interprete de Python.\n",
        "     - Definir funciones en Python.\n",
        "     - Trabajar con los tipos básicos de Python.\n",
        "- Familiarizarnos con los notebooks de Jupyter y el entorno de Google Colab.\n",
        "\n",
        "Si estás utilizando Colab para interactuar con estos notebooks, para que los cambios realizados se almacenen en el repositorio debes usar la opción Save a copy in GitHub... del menú File. "
      ]
    },
    {
      "cell_type": "markdown",
      "metadata": {
        "id": "xfnEPPAsZ0ED"
      },
      "source": [
        "## Ejercicios mínimos (6 puntos)\n",
        "\n",
        "### Ejercicio 1\n",
        "\n",
        "Crea tantas celdas como necesites y ejecuta las siguientes instrucciones:\n",
        "- (50-5*6)/4\n",
        "- ancho = 20\n",
        "- alto = 5*9\n",
        "- area = ancho*alto\n",
        "- area\n",
        "- True and 2==3"
      ]
    },
    {
      "cell_type": "code",
      "execution_count": null,
      "metadata": {
        "id": "5yPTSR7sZ0EH",
        "colab": {
          "base_uri": "https://localhost:8080/"
        },
        "outputId": "8bccd9ea-d37f-4920-d8c0-4f3a1d3cc59e"
      },
      "outputs": [
        {
          "output_type": "execute_result",
          "data": {
            "text/plain": [
              "5.0"
            ]
          },
          "metadata": {},
          "execution_count": 1
        }
      ],
      "source": [
        "(50-5*6)/4"
      ]
    },
    {
      "cell_type": "code",
      "execution_count": null,
      "metadata": {
        "id": "OTKsnFasii5j",
        "outputId": "5fd218a0-51ba-4ae9-9303-13afbfc35f36",
        "colab": {
          "base_uri": "https://localhost:8080/"
        }
      },
      "outputs": [
        {
          "output_type": "execute_result",
          "data": {
            "text/plain": [
              "900"
            ]
          },
          "metadata": {},
          "execution_count": 3
        }
      ],
      "source": [
        "ancho=20\n",
        "alto=5*9\n",
        "area=ancho*alto\n",
        "area\n"
      ]
    },
    {
      "cell_type": "code",
      "execution_count": null,
      "metadata": {
        "id": "2byNcpw6ikA-",
        "outputId": "e4dd7724-ab5b-40da-9f04-307e6d93a247",
        "colab": {
          "base_uri": "https://localhost:8080/"
        }
      },
      "outputs": [
        {
          "output_type": "execute_result",
          "data": {
            "text/plain": [
              "False"
            ]
          },
          "metadata": {},
          "execution_count": 5
        }
      ],
      "source": [
        "True & 2==3\n"
      ]
    },
    {
      "cell_type": "markdown",
      "metadata": {
        "id": "Fo-vlKOjZ0EV"
      },
      "source": [
        "### Ejercicio 2\n",
        "\n",
        "A continuación vemos cómo se define una función, y cómo se puede utilizar.\n",
        "\n",
        "La siguiente función toma un número y le suma 44."
      ]
    },
    {
      "cell_type": "code",
      "execution_count": null,
      "metadata": {
        "id": "-MIzYRe5Z0EW"
      },
      "outputs": [],
      "source": [
        "def mas44(x):\n",
        "    return x + 44"
      ]
    },
    {
      "cell_type": "markdown",
      "metadata": {
        "id": "XdZO1c1QZ0Ee"
      },
      "source": [
        "Ahora podemos utilizar la función del siguiente modo."
      ]
    },
    {
      "cell_type": "code",
      "execution_count": null,
      "metadata": {
        "id": "hQI1E5gHZ0Eg",
        "outputId": "c4a3e909-6388-4afc-d318-ccb3a68395cf",
        "colab": {
          "base_uri": "https://localhost:8080/"
        }
      },
      "outputs": [
        {
          "output_type": "execute_result",
          "data": {
            "text/plain": [
              "49"
            ]
          },
          "metadata": {},
          "execution_count": 9
        }
      ],
      "source": [
        "mas44(5)"
      ]
    },
    {
      "cell_type": "markdown",
      "metadata": {
        "id": "Aaa3ruToZ0En"
      },
      "source": [
        "### Ejercicio 3\n",
        "\n",
        "Define una función que dados dos números devuelva el menor de ellos. Utiliza la siguiente cabecera. En la celda siguiente debes reemplazar el ``pass`` por la definición de la función."
      ]
    },
    {
      "cell_type": "code",
      "execution_count": null,
      "metadata": {
        "id": "8wbv6N3BZ0Ep"
      },
      "outputs": [],
      "source": [
        "def minimo(x,y):\n",
        "    '''\n",
        "    >>> minimo(10, 5)\n",
        "    5\n",
        "    >>> minimo(-4, 9)\n",
        "    -4\n",
        "    >>> minimo(3.8, 2.9)\n",
        "    2.9\n",
        "    '''\n",
        "    return x if x < y else y"
      ]
    },
    {
      "cell_type": "markdown",
      "metadata": {
        "id": "ehHfpjvqZ0Ew"
      },
      "source": [
        "Si la definición anterior no es correcta, al ejecutar la siguiente celda obtendrás un error, lo que significa que tu función no pasa los tests proporcionados. "
      ]
    },
    {
      "cell_type": "code",
      "execution_count": null,
      "metadata": {
        "id": "Y1lLNRWWZ0Ey",
        "outputId": "1b86c3ab-9376-48d7-cf65-4dd769204685",
        "colab": {
          "base_uri": "https://localhost:8080/"
        }
      },
      "outputs": [
        {
          "output_type": "execute_result",
          "data": {
            "text/plain": [
              "TestResults(failed=0, attempted=3)"
            ]
          },
          "metadata": {},
          "execution_count": 14
        }
      ],
      "source": [
        "import doctest\n",
        "doctest.testmod()"
      ]
    },
    {
      "cell_type": "markdown",
      "metadata": {
        "id": "BTAWy3iKZ0E3"
      },
      "source": [
        "### Ejercicio 4\n",
        "\n",
        "Define una función que dado un string, devuelve un string que contiene los dos primeros y los dos últimos caracteres del string; es decir, si la función recibe 'primavera', la función devolverá 'prra'. Sin embargo, si la longitud del string es menor que dos, la función devolverá el string vacio."
      ]
    },
    {
      "cell_type": "code",
      "execution_count": null,
      "metadata": {
        "id": "0gNDnvUqZ0E5"
      },
      "outputs": [],
      "source": [
        "def principio_fin(s):\n",
        "    '''\n",
        "    >>> principio_fin('primavera')\n",
        "    'prra'\n",
        "    >>> principio_fin('invierno')\n",
        "    'inno'\n",
        "    >>> principio_fin('xyz')\n",
        "    'xyyz'\n",
        "    >>> principio_fin('a')\n",
        "    ''\n",
        "    '''\n",
        "    return s."
      ]
    },
    {
      "cell_type": "markdown",
      "metadata": {
        "id": "BLaUhyVuZ0FA"
      },
      "source": [
        "Comprueba los tests."
      ]
    },
    {
      "cell_type": "code",
      "execution_count": null,
      "metadata": {
        "id": "VbWdTheIZ0FC"
      },
      "outputs": [],
      "source": [
        "doctest.testmod()"
      ]
    },
    {
      "cell_type": "markdown",
      "metadata": {
        "id": "5GNnRPmoZ0FH"
      },
      "source": [
        "### Ejercicio 5\n",
        "\n",
        "Define una función que dado un string s, devuelve un string donde todas las ocurrencias del primer carácter de s han sido reemplazadas por '\\*', exceptuando el primer carácter. Ejemplo. 'babble' produce 'ba**le'. Ejecuta la siguiente celda para saber qué hace la función ``replace``."
      ]
    },
    {
      "cell_type": "code",
      "execution_count": null,
      "metadata": {
        "id": "fM0WDTxFZ0FJ"
      },
      "outputs": [],
      "source": [
        "s = ''\n",
        "??s.replace"
      ]
    },
    {
      "cell_type": "code",
      "execution_count": null,
      "metadata": {
        "id": "zrrYigVnZ0FP"
      },
      "outputs": [],
      "source": [
        "def comienzo_fijo(s):\n",
        "    '''\n",
        "    >>> comienzo_fijo('babble')\n",
        "    'ba**le'\n",
        "    >>> comienzo_fijo('aardvark')\n",
        "    'a*rdv*rk'\n",
        "    >>> comienzo_fijo('google')\n",
        "    'goo*le'\n",
        "    >>> comienzo_fijo('donut')\n",
        "    'donut'\n",
        "    '''\n",
        "    pass"
      ]
    },
    {
      "cell_type": "markdown",
      "metadata": {
        "id": "2Vq5mVhLZ0FV"
      },
      "source": [
        "Comprueba los tests."
      ]
    },
    {
      "cell_type": "code",
      "execution_count": null,
      "metadata": {
        "id": "TU4w5rvCZ0FW"
      },
      "outputs": [],
      "source": [
        "doctest.testmod()"
      ]
    },
    {
      "cell_type": "markdown",
      "metadata": {
        "id": "p_AoYDetZ0Fc"
      },
      "source": [
        "### Ejercicio 6\n",
        "\n",
        "Define una función que dado un string s, devuelva una tupla con dos elementos, donde el primer elemento de la  tupla es el número de letras del string y el segundo elemento es el número de números del string."
      ]
    },
    {
      "cell_type": "code",
      "execution_count": null,
      "metadata": {
        "id": "VGRuniFFZ0Fe"
      },
      "outputs": [],
      "source": [
        "def cuenta_letras_numeros(s):\n",
        "    '''\n",
        "    >>> cuenta_letras_numeros('hello world! 123')\n",
        "    (10, 3)\n",
        "    >>> cuenta_letras_numeros('123abcde')\n",
        "    (5, 3)\n",
        "    '''\n",
        "    pass"
      ]
    },
    {
      "cell_type": "markdown",
      "metadata": {
        "id": "RtnMcwHSZ0Fn"
      },
      "source": [
        "Comprueba los tests."
      ]
    },
    {
      "cell_type": "code",
      "execution_count": null,
      "metadata": {
        "id": "CEsDg1XDZ0Fp"
      },
      "outputs": [],
      "source": [
        "doctest.testmod()"
      ]
    },
    {
      "cell_type": "markdown",
      "metadata": {
        "id": "rGYg3PseZ0Ft"
      },
      "source": [
        "### Ejercicio 7\n",
        "\n",
        "Define una función que dada una lista de strings devuelva el número de strings cuya longitud es mayor que 2 y que\n",
        "además cumplen que el primer y último carácter del string son el mismo."
      ]
    },
    {
      "cell_type": "code",
      "execution_count": null,
      "metadata": {
        "id": "T5NtQotnZ0Fu"
      },
      "outputs": [],
      "source": [
        "def cuenta_strings(palabras):\n",
        "    '''\n",
        "    >>> cuenta_strings(['aba', 'bb', 'cdefc'])\n",
        "    2\n",
        "    >>> cuenta_strings(['oso', 'ojo', 'radar', 'reconocer','rotor', 'salas'])\n",
        "    6\n",
        "    '''\n",
        "    pass"
      ]
    },
    {
      "cell_type": "markdown",
      "metadata": {
        "id": "DiUz5ivIZ0Fz"
      },
      "source": [
        "Comprueba los tests."
      ]
    },
    {
      "cell_type": "code",
      "execution_count": null,
      "metadata": {
        "id": "7-SWnXF4Z0F0"
      },
      "outputs": [],
      "source": [
        "doctest.testmod()"
      ]
    },
    {
      "cell_type": "markdown",
      "metadata": {
        "id": "3L1LwZ8FZ0F5"
      },
      "source": [
        "### Ejercicio 8\n",
        "\n",
        "Define una función que dada dos listas de igual tamaño produce una lista de tuplas combinando los elementos de las dos listas. Ejemplo: dadas las listas ``[1,2,3]`` y ``['a','b','c']`` produce la lista ``[(1,'a'), (2,'b'), (3,'c')]``. En caso de que las dos listas no tengan la misma longitud, la función devolverá el string 'listas no validas'."
      ]
    },
    {
      "cell_type": "code",
      "execution_count": null,
      "metadata": {
        "id": "_XrQRFWEZ0F6"
      },
      "outputs": [],
      "source": [
        "def combina_listas(lista1,lista2):\n",
        "    '''\n",
        "    >>> combina_listas([1, 2, 3] ,['a', 'b', 'c'])\n",
        "    [(1, 'a'), (2, 'b'), (3, 'c')]\n",
        "    >>> combina_listas([1, 2, 3],['a', 'b'])\n",
        "    'listas no validas'\n",
        "    '''\n",
        "    pass"
      ]
    },
    {
      "cell_type": "markdown",
      "metadata": {
        "id": "JYkZ93YEZ0F-"
      },
      "source": [
        "Comprueba los tests."
      ]
    },
    {
      "cell_type": "code",
      "execution_count": null,
      "metadata": {
        "id": "_SbExYEDZ0F_"
      },
      "outputs": [],
      "source": [
        "doctest.testmod()"
      ]
    },
    {
      "cell_type": "markdown",
      "metadata": {
        "id": "oUec0diRZ0GF"
      },
      "source": [
        "### Ejercicio 9\n",
        "\n",
        "Define una función que dada dos listas de números, las mezcla y devuelve la mezcla ordenada. Ejemplo: dadas las listas ``[4,1,3]`` y ``[2,5]`` devuelve la lista ``[1,2,3,4,5]``."
      ]
    },
    {
      "cell_type": "code",
      "execution_count": null,
      "metadata": {
        "id": "uYR7PtCFZ0GG"
      },
      "outputs": [],
      "source": [
        "def mezcla_y_ordena(lista1,lista2):\n",
        "    '''\n",
        "    >>> mezcla_y_ordena([1, 2, 3], [4, 5, 6])\n",
        "    [1, 2, 3, 4, 5, 6]\n",
        "    >>> mezcla_y_ordena([4, 1, 3], [2, 5])\n",
        "    [1, 2, 3, 4, 5]\n",
        "    '''\n",
        "    pass"
      ]
    },
    {
      "cell_type": "markdown",
      "metadata": {
        "id": "N-H6UKo_Z0GK"
      },
      "source": [
        "Comprueba los tests."
      ]
    },
    {
      "cell_type": "code",
      "execution_count": null,
      "metadata": {
        "id": "yWSK3SoaZ0GL"
      },
      "outputs": [],
      "source": [
        "doctest.testmod()"
      ]
    },
    {
      "cell_type": "markdown",
      "metadata": {
        "id": "EsKg9q-wZ0GP"
      },
      "source": [
        "### Ejercicio 10\n",
        "\n",
        "Define una función que dada una lista de elementos, devuelve una lista donde todos los elementos adyacentes\n",
        "que son iguales han sido reducidos a un único elemento. Ejemplo: Dada la lista ``[1,2,2,3]`` produce la lista ``[1,2,3]``."
      ]
    },
    {
      "cell_type": "code",
      "execution_count": null,
      "metadata": {
        "id": "aWHCzPqNZ0GQ"
      },
      "outputs": [],
      "source": [
        "def elimina_adyacentes(lista):\n",
        "    '''\n",
        "    >>> elimina_adyacentes([1, 2, 2, 3])\n",
        "    [1, 2, 3]\n",
        "    >>> elimina_adyacentes([2, 2, 3, 3, 3])\n",
        "    [2, 3]\n",
        "    >>> elimina_adyacentes([1, 2, 2, 3,3,3,4,2,2])\n",
        "    [1, 2, 3, 4, 2]\n",
        "    >>> elimina_adyacentes([])\n",
        "    []\n",
        "    '''\n",
        "    pass"
      ]
    },
    {
      "cell_type": "code",
      "execution_count": null,
      "metadata": {
        "id": "rBK2DLFtZ0GT"
      },
      "outputs": [],
      "source": [
        "doctest.testmod()"
      ]
    },
    {
      "cell_type": "markdown",
      "metadata": {
        "id": "uDllyRgnZ0GW"
      },
      "source": [
        "### Ejercicio 11\n",
        "\n",
        "Define una función que dada una tupla de elementos, devuelve una lista con los elementos de la tupla."
      ]
    },
    {
      "cell_type": "code",
      "execution_count": null,
      "metadata": {
        "id": "TS2ZZJKlZ0GY"
      },
      "outputs": [],
      "source": [
        "def tupla_a_lista(tupla):\n",
        "    '''\n",
        "    >>> tupla_a_lista((1, 2, 2, 3))\n",
        "    [1, 2, 2, 3]\n",
        "    >>> tupla_a_lista(())\n",
        "    []\n",
        "    '''\n",
        "    pass"
      ]
    },
    {
      "cell_type": "markdown",
      "metadata": {
        "id": "H3QjIo4uZ0Gc"
      },
      "source": [
        "Comprueba los tests."
      ]
    },
    {
      "cell_type": "code",
      "execution_count": null,
      "metadata": {
        "id": "Jx3TZZsUZ0Ge"
      },
      "outputs": [],
      "source": [
        "doctest.testmod()"
      ]
    },
    {
      "cell_type": "markdown",
      "metadata": {
        "id": "pLiiYrUeZ0Gj"
      },
      "source": [
        "### Ejercicio 12\n",
        "\n",
        "Define una función que dados dos conjuntos de elementos devuelva un nuevo conjunto con los elementos del primer conjunto que no están en el segundo."
      ]
    },
    {
      "cell_type": "code",
      "execution_count": null,
      "metadata": {
        "id": "SixfiU86Z0Gl"
      },
      "outputs": [],
      "source": [
        "def diferencia_conjuntos(c1,c2):\n",
        "    '''\n",
        "    >>> diferencia_conjuntos(set([\"White\", \"Black\", \"Red\"]), set([\"Red\", \"Green\"]))\n",
        "    {'White', 'Black'}\n",
        "    '''\n",
        "    pass"
      ]
    },
    {
      "cell_type": "markdown",
      "metadata": {
        "id": "u9qrTBqnZ0Gp"
      },
      "source": [
        "Comprueba los tests."
      ]
    },
    {
      "cell_type": "code",
      "execution_count": null,
      "metadata": {
        "id": "mliSEkc3Z0Gq"
      },
      "outputs": [],
      "source": [
        "doctest.testmod()"
      ]
    },
    {
      "cell_type": "markdown",
      "metadata": {
        "id": "EYJR6OfZZ0Gs"
      },
      "source": [
        "## Ejercicios de ampliación I (1 punto)\n",
        "\n",
        "A continuación se proponen unos ejercicios de ampliación."
      ]
    },
    {
      "cell_type": "markdown",
      "metadata": {
        "id": "ymzCUFLXZ0Gu"
      },
      "source": [
        "### Ejercicio 13\n",
        "\n",
        "Define una función que dado un entero n positivo y mayor o igual que 0 devuelva el n-ésimo número de Fibonacci. Recuerda que el 0-ésimo número de Fibonacci es 0, el primero es 1, y para i > 1, el i-ésimo número de Fibonacci es la suma del (i-1)-ésimo mas el (i-2)-ésimo."
      ]
    },
    {
      "cell_type": "code",
      "execution_count": null,
      "metadata": {
        "id": "-bVero4TZ0Gv"
      },
      "outputs": [],
      "source": [
        "def n_esimo_Fibonacci(n):\n",
        "    '''\n",
        "    >>> n_esimo_Fibonacci(0)\n",
        "    0\n",
        "    >>> n_esimo_Fibonacci(1)\n",
        "    1\n",
        "    >>> n_esimo_Fibonacci(2)\n",
        "    1\n",
        "    >>> n_esimo_Fibonacci(3)\n",
        "    2\n",
        "    >>> n_esimo_Fibonacci(10)\n",
        "    55\n",
        "    '''\n",
        "    pass"
      ]
    },
    {
      "cell_type": "markdown",
      "metadata": {
        "id": "sxdnFAxoZ0Gz"
      },
      "source": [
        "Comprueba los tests."
      ]
    },
    {
      "cell_type": "code",
      "execution_count": null,
      "metadata": {
        "id": "-hQnOXQ8Z0Gz"
      },
      "outputs": [],
      "source": [
        "doctest.testmod()"
      ]
    },
    {
      "cell_type": "markdown",
      "metadata": {
        "id": "6SG1s9gfZ0G3"
      },
      "source": [
        "### Ejercicio 14\n",
        "\n",
        "Define una función que dado un entero n positivo y mayor o igual que 0 devuelva la secuencia de los n primeros  números de Fibonacci sin incluir al 0. En caso de que la función tome como parámetro n=0 devolverá la lista vacía."
      ]
    },
    {
      "cell_type": "code",
      "execution_count": null,
      "metadata": {
        "id": "MFVBuh5xZ0G4"
      },
      "outputs": [],
      "source": [
        "def secuencia_Fibonacci(n):\n",
        "    '''\n",
        "    >>> secuencia_Fibonacci(0)\n",
        "    []\n",
        "    >>> secuencia_Fibonacci(1)\n",
        "    [1]\n",
        "    >>> secuencia_Fibonacci(2)\n",
        "    [1, 1]\n",
        "    >>> secuencia_Fibonacci(3)\n",
        "    [1, 1, 2]\n",
        "    >>> secuencia_Fibonacci(10)\n",
        "    [1, 1, 2, 3, 5, 8, 13, 21, 34, 55]\n",
        "    '''\n",
        "    pass"
      ]
    },
    {
      "cell_type": "markdown",
      "metadata": {
        "id": "j9Uo7m6MZ0G7"
      },
      "source": [
        "Comprueba los tests."
      ]
    },
    {
      "cell_type": "code",
      "execution_count": null,
      "metadata": {
        "id": "hzY0uv-6Z0G8"
      },
      "outputs": [],
      "source": [
        "doctest.testmod()"
      ]
    },
    {
      "cell_type": "markdown",
      "metadata": {
        "id": "iCHnwTywZ0G_"
      },
      "source": [
        "## Ejercicio de ampliación II (2 puntos)\n",
        "\n",
        "El código genético de todos los organismos vivos se representa mediante una secuencia enorme de moléculas llamadas nucleótidos que forman el ADN. Sólo existen 4 nucleótidos y el código genético puede verse como un string con las letras A, C, G y T.\n",
        "\n",
        "El análisis de datos de ADN se basa, en parte, en buscar largas cadenas de patrones de string que involucran a las letras A, C, G, y T. Con estos ejercicios veremos algunos ejemplos de ello. Para aplicaciones reales no es  recomendable utilizar soluciones a mano y existen librerías como [BioPython](http://biopython.org/).\n",
        "\n",
        "El primer ejercicio consiste en definir una función que verifique que un string es una secuencia de ADN es decir  que solo contiene las letras A, C, G, y T. La función devolverá ``True`` en caso de que el parámetro de entrada sea una secuencia de ADN y False en caso contrario."
      ]
    },
    {
      "cell_type": "code",
      "execution_count": 61,
      "metadata": {
        "id": "BHREHLCfZ0HA"
      },
      "outputs": [],
      "source": [
        "import re\n",
        "def es_secuencia_adn(secuencia):\n",
        "    '''\n",
        "    >>> es_secuencia_adn('ATGGCATTA')\n",
        "    True\n",
        "    >>> es_secuencia_adn('')\n",
        "    True\n",
        "    >>> es_secuencia_adn('AAATTTGGGCCCCGTA')\n",
        "    True\n",
        "    >>> es_secuencia_adn('ATDGGCATTA')\n",
        "    False\n",
        "    >>> es_secuencia_adn('atgcab')\n",
        "    False\n",
        "    '''\n",
        "    patron_ADN = re.compile(\"[ACGT]*\")\n",
        "    if patron_ADN.fullmatch(secuencia):\n",
        "        return True\n",
        "    else:\n",
        "        return False"
      ]
    },
    {
      "cell_type": "markdown",
      "metadata": {
        "id": "EABGLq1oZ0HD"
      },
      "source": [
        "Comprueba los tests."
      ]
    },
    {
      "cell_type": "code",
      "execution_count": 62,
      "metadata": {
        "id": "gkIxwkPaZ0HE",
        "colab": {
          "base_uri": "https://localhost:8080/"
        },
        "outputId": "e7c03e33-0da9-4bc8-b0c1-e4b9057df36b"
      },
      "outputs": [
        {
          "output_type": "execute_result",
          "data": {
            "text/plain": [
              "TestResults(failed=0, attempted=28)"
            ]
          },
          "metadata": {},
          "execution_count": 62
        }
      ],
      "source": [
        "import doctest\n",
        "doctest.testmod()"
      ]
    },
    {
      "cell_type": "markdown",
      "metadata": {
        "id": "3HELBD4GZ0HM"
      },
      "source": [
        "Dada una secuencia de ADN (un string) que contiene las letras A, C, G, y T queremos conocer cuántas veces aparece una cierta base en dicha secuencia. Por ejemplo, para la secuencia ATGGCATTA, la base A ocurre 3 veces. Define una función con esta funcionalidad."
      ]
    },
    {
      "cell_type": "code",
      "execution_count": 67,
      "metadata": {
        "id": "8cYVuL-uZ0HO"
      },
      "outputs": [],
      "source": [
        "def cuenta(adn, base):\n",
        "    '''\n",
        "    >>> cuenta('ATGGCATTA', 'A')\n",
        "    3\n",
        "    >>> cuenta('ATGGCATTA', 'T')\n",
        "    3\n",
        "    >>> cuenta('ATGGCATTA', 'G')\n",
        "    2\n",
        "    >>> cuenta('ATGGCATTA', 'C')\n",
        "    1\n",
        "    >>> cuenta('ATGGCATTA', 'D')\n",
        "    0\n",
        "    >>> cuenta('', 'C')\n",
        "    0\n",
        "    >>> cuenta('AAATTTGGGCCCCGTA', 'A')\n",
        "    4\n",
        "    >>> cuenta('AAATTTGGGCCCCGTA', 'C')\n",
        "    4\n",
        "    >>> cuenta('AAATTTGGGCCCCGTA', 'G')\n",
        "    4\n",
        "    >>> cuenta('AAATTTGGGCCCCGTA', 'T')\n",
        "    4\n",
        "    '''\n",
        "    baseNum = 0\n",
        "    if es_secuencia_adn(adn):\n",
        "        for letra in adn:\n",
        "          return sum(1 for letra in adn if letra == base)\n",
        "        return 0 ##por si viene cadena vacia"
      ]
    },
    {
      "cell_type": "markdown",
      "metadata": {
        "id": "RmFFYfq4Z0HR"
      },
      "source": [
        "Comprueba los tests."
      ]
    },
    {
      "cell_type": "code",
      "execution_count": 68,
      "metadata": {
        "id": "7dl-DWeSZ0HT",
        "colab": {
          "base_uri": "https://localhost:8080/"
        },
        "outputId": "bdaea5ed-b14f-4f28-8d08-4deab7db804e"
      },
      "outputs": [
        {
          "output_type": "execute_result",
          "data": {
            "text/plain": [
              "TestResults(failed=0, attempted=38)"
            ]
          },
          "metadata": {},
          "execution_count": 68
        }
      ],
      "source": [
        "doctest.testmod()"
      ]
    },
    {
      "cell_type": "markdown",
      "metadata": {
        "id": "jKT10U8yZ0HW"
      },
      "source": [
        "El siguiente ejercicio consiste en calcular la frecuencia en la que aparece cada letra en cada posición de una lista de secuencias (todas las secuencias de la lista tienen el mismo número de elementos). El resultado será una tupla de listas, donde la primera lista corresponde a las frecuencias de A, la segunda a las frecuencias de C, la tercera a las de G y la cuarta a las de T. Por ejemplo, dada la lista de secuencias ``['ATGACT', 'AACTGT', 'GGCTAT']`` el resultado sería: ``([2,1,0,1,1,0],[0,0,2,0,1,0],[1,1,1,0,1,0],[0,1,0,1,0,3])``."
      ]
    },
    {
      "cell_type": "code",
      "execution_count": 81,
      "metadata": {
        "id": "B2FpEAdDZ0HX"
      },
      "outputs": [],
      "source": [
        "def frecuencias(lista_adns):\n",
        "    '''\n",
        "    >>> frecuencias(['ATGACT', 'AACTGT', 'GGCTAT'])[0]\n",
        "    [2, 1, 0, 1, 1, 0]\n",
        "    >>> frecuencias(['ATGACT', 'AACTGT', 'GGCTAT'])[1]\n",
        "    [0, 0, 2, 0, 1, 0]\n",
        "    >>> frecuencias(['ATGACT', 'AACTGT', 'GGCTAT'])[2]\n",
        "    [1, 1, 1, 0, 1, 0]\n",
        "    >>> frecuencias(['ATGACT', 'AACTGT', 'GGCTAT'])[3]\n",
        "    [0, 1, 0, 2, 0, 3]\n",
        "    '''\n",
        "    freq = [[0] * len(lista_adns[0]) for k in range(4)]\n",
        "\n",
        "    for i in range(len(lista_adns[0])):\n",
        "      for p in lista_adns:\n",
        "        if p[i] == 'A':\n",
        "          freq[0][i]+=1\n",
        "        if p[i] == \"C\":\n",
        "          freq[1][i]+=1\n",
        "        if p[i] == \"G\":\n",
        "          freq[2][i]+=1\n",
        "        if p[i] == \"T\":\n",
        "          freq[3][i]+=1\n",
        "    \n",
        "    return tuple(freq)\n",
        "       \n",
        "       \n",
        "       "
      ]
    },
    {
      "cell_type": "code",
      "source": [],
      "metadata": {
        "id": "_IIKaFn5_fmN"
      },
      "execution_count": null,
      "outputs": []
    },
    {
      "cell_type": "markdown",
      "metadata": {
        "id": "Oi0ppbKwZ0Hb"
      },
      "source": [
        "Comprueba los tests."
      ]
    },
    {
      "cell_type": "code",
      "execution_count": 82,
      "metadata": {
        "id": "3HkM09uKZ0Hc",
        "colab": {
          "base_uri": "https://localhost:8080/"
        },
        "outputId": "ca4df9b4-1628-4fb8-e476-57ae5d7a8a99"
      },
      "outputs": [
        {
          "output_type": "execute_result",
          "data": {
            "text/plain": [
              "TestResults(failed=0, attempted=42)"
            ]
          },
          "metadata": {},
          "execution_count": 82
        }
      ],
      "source": [
        "doctest.testmod()"
      ]
    },
    {
      "cell_type": "markdown",
      "metadata": {
        "id": "JNmvg63UZ0Hh"
      },
      "source": [
        "A continuación pasamos a definir una función que genere secuencias aleatorias de adn de un tamaño dado. Para ello\n",
        "deberás importar la librería random (``import random``) y utilizar alguna de sus funciones. Puedes ver las funciones de esta librería en: https://docs.python.org/3/library/random.html. Pista. Busca una función en esta librería que devuelva un elemento aleatorio de una secuencia."
      ]
    },
    {
      "cell_type": "code",
      "execution_count": 95,
      "metadata": {
        "id": "GhIkUsrhZ0Hi"
      },
      "outputs": [],
      "source": [
        "import random as rd\n",
        "def genera_adn(tam):\n",
        "    devuelto = []\n",
        "    posibles = (\"A\", \"C\", \"G\", \"T\") \n",
        "    i=0\n",
        "    while i < tam:\n",
        "      devuelto.append(posibles[rd.randint(0,3)])\n",
        "    return devuelto"
      ]
    },
    {
      "cell_type": "markdown",
      "metadata": {
        "id": "oN2uR-BhZ0Hl"
      },
      "source": [
        "Comprueba los tests. En este caso los tests se ejecutan mediante la instrucción ``assert``. "
      ]
    },
    {
      "cell_type": "code",
      "execution_count": 96,
      "metadata": {
        "id": "pPybieyFZ0Hl",
        "colab": {
          "base_uri": "https://localhost:8080/",
          "height": 382
        },
        "outputId": "2e048a83-bb09-4f7e-d4d3-7e2dce9a8f3f"
      },
      "outputs": [
        {
          "output_type": "error",
          "ename": "KeyboardInterrupt",
          "evalue": "ignored",
          "traceback": [
            "\u001b[0;31m---------------------------------------------------------------------------\u001b[0m",
            "\u001b[0;31mKeyboardInterrupt\u001b[0m                         Traceback (most recent call last)",
            "\u001b[0;32m<ipython-input-96-21ae59bcae7b>\u001b[0m in \u001b[0;36m<cell line: 1>\u001b[0;34m()\u001b[0m\n\u001b[0;32m----> 1\u001b[0;31m \u001b[0madn1\u001b[0m \u001b[0;34m=\u001b[0m \u001b[0mgenera_adn\u001b[0m\u001b[0;34m(\u001b[0m\u001b[0;36m10\u001b[0m\u001b[0;34m)\u001b[0m\u001b[0;34m\u001b[0m\u001b[0;34m\u001b[0m\u001b[0m\n\u001b[0m\u001b[1;32m      2\u001b[0m \u001b[0madn2\u001b[0m \u001b[0;34m=\u001b[0m \u001b[0mgenera_adn\u001b[0m\u001b[0;34m(\u001b[0m\u001b[0;36m10\u001b[0m\u001b[0;34m)\u001b[0m\u001b[0;34m\u001b[0m\u001b[0;34m\u001b[0m\u001b[0m\n\u001b[1;32m      3\u001b[0m \u001b[0;34m\u001b[0m\u001b[0m\n\u001b[1;32m      4\u001b[0m \u001b[0;32mimport\u001b[0m \u001b[0mnumpy\u001b[0m \u001b[0;32mas\u001b[0m \u001b[0mnp\u001b[0m\u001b[0;34m\u001b[0m\u001b[0;34m\u001b[0m\u001b[0m\n\u001b[1;32m      5\u001b[0m \u001b[0;34m\u001b[0m\u001b[0m\n",
            "\u001b[0;32m<ipython-input-95-99f4ccf860c8>\u001b[0m in \u001b[0;36mgenera_adn\u001b[0;34m(tam)\u001b[0m\n\u001b[1;32m      5\u001b[0m     \u001b[0mi\u001b[0m\u001b[0;34m=\u001b[0m\u001b[0;36m0\u001b[0m\u001b[0;34m\u001b[0m\u001b[0;34m\u001b[0m\u001b[0m\n\u001b[1;32m      6\u001b[0m     \u001b[0;32mwhile\u001b[0m \u001b[0mi\u001b[0m \u001b[0;34m<\u001b[0m \u001b[0mtam\u001b[0m\u001b[0;34m:\u001b[0m\u001b[0;34m\u001b[0m\u001b[0;34m\u001b[0m\u001b[0m\n\u001b[0;32m----> 7\u001b[0;31m       \u001b[0mdevuelto\u001b[0m\u001b[0;34m.\u001b[0m\u001b[0mappend\u001b[0m\u001b[0;34m(\u001b[0m\u001b[0mposibles\u001b[0m\u001b[0;34m[\u001b[0m\u001b[0mrd\u001b[0m\u001b[0;34m.\u001b[0m\u001b[0mrandint\u001b[0m\u001b[0;34m(\u001b[0m\u001b[0;36m0\u001b[0m\u001b[0;34m,\u001b[0m\u001b[0;36m3\u001b[0m\u001b[0;34m)\u001b[0m\u001b[0;34m]\u001b[0m\u001b[0;34m)\u001b[0m\u001b[0;34m\u001b[0m\u001b[0;34m\u001b[0m\u001b[0m\n\u001b[0m\u001b[1;32m      8\u001b[0m     \u001b[0;32mreturn\u001b[0m \u001b[0mdevuelto\u001b[0m\u001b[0;34m\u001b[0m\u001b[0;34m\u001b[0m\u001b[0m\n",
            "\u001b[0;32m/usr/lib/python3.9/random.py\u001b[0m in \u001b[0;36mrandint\u001b[0;34m(self, a, b)\u001b[0m\n\u001b[1;32m    336\u001b[0m         \"\"\"\n\u001b[1;32m    337\u001b[0m \u001b[0;34m\u001b[0m\u001b[0m\n\u001b[0;32m--> 338\u001b[0;31m         \u001b[0;32mreturn\u001b[0m \u001b[0mself\u001b[0m\u001b[0;34m.\u001b[0m\u001b[0mrandrange\u001b[0m\u001b[0;34m(\u001b[0m\u001b[0ma\u001b[0m\u001b[0;34m,\u001b[0m \u001b[0mb\u001b[0m\u001b[0;34m+\u001b[0m\u001b[0;36m1\u001b[0m\u001b[0;34m)\u001b[0m\u001b[0;34m\u001b[0m\u001b[0;34m\u001b[0m\u001b[0m\n\u001b[0m\u001b[1;32m    339\u001b[0m \u001b[0;34m\u001b[0m\u001b[0m\n\u001b[1;32m    340\u001b[0m \u001b[0;34m\u001b[0m\u001b[0m\n",
            "\u001b[0;32m/usr/lib/python3.9/random.py\u001b[0m in \u001b[0;36mrandrange\u001b[0;34m(self, start, stop, step)\u001b[0m\n\u001b[1;32m    311\u001b[0m             \u001b[0;32mraise\u001b[0m \u001b[0mValueError\u001b[0m\u001b[0;34m(\u001b[0m\u001b[0;34m\"non-integer stop for randrange()\"\u001b[0m\u001b[0;34m)\u001b[0m\u001b[0;34m\u001b[0m\u001b[0;34m\u001b[0m\u001b[0m\n\u001b[1;32m    312\u001b[0m         \u001b[0mwidth\u001b[0m \u001b[0;34m=\u001b[0m \u001b[0mistop\u001b[0m \u001b[0;34m-\u001b[0m \u001b[0mistart\u001b[0m\u001b[0;34m\u001b[0m\u001b[0;34m\u001b[0m\u001b[0m\n\u001b[0;32m--> 313\u001b[0;31m         \u001b[0;32mif\u001b[0m \u001b[0mstep\u001b[0m \u001b[0;34m==\u001b[0m \u001b[0;36m1\u001b[0m \u001b[0;32mand\u001b[0m \u001b[0mwidth\u001b[0m \u001b[0;34m>\u001b[0m \u001b[0;36m0\u001b[0m\u001b[0;34m:\u001b[0m\u001b[0;34m\u001b[0m\u001b[0;34m\u001b[0m\u001b[0m\n\u001b[0m\u001b[1;32m    314\u001b[0m             \u001b[0;32mreturn\u001b[0m \u001b[0mistart\u001b[0m \u001b[0;34m+\u001b[0m \u001b[0mself\u001b[0m\u001b[0;34m.\u001b[0m\u001b[0m_randbelow\u001b[0m\u001b[0;34m(\u001b[0m\u001b[0mwidth\u001b[0m\u001b[0;34m)\u001b[0m\u001b[0;34m\u001b[0m\u001b[0;34m\u001b[0m\u001b[0m\n\u001b[1;32m    315\u001b[0m         \u001b[0;32mif\u001b[0m \u001b[0mstep\u001b[0m \u001b[0;34m==\u001b[0m \u001b[0;36m1\u001b[0m\u001b[0;34m:\u001b[0m\u001b[0;34m\u001b[0m\u001b[0;34m\u001b[0m\u001b[0m\n",
            "\u001b[0;31mKeyboardInterrupt\u001b[0m: "
          ]
        }
      ],
      "source": [
        "adn1 = genera_adn(10)\n",
        "adn2 = genera_adn(10)\n",
        "\n",
        "import numpy as np\n",
        "\n",
        "def secuencia_contiene_letras_que_no_son_acgt(seq):\n",
        "    letras = 'BDEFHIJKMLNOPQRSUVWXYZ'\n",
        "    return np.sum([s in seq for s in letras])>0\n",
        "\n",
        "assert(len(adn1) == 10)\n",
        "assert(('A' in adn1) or ('C' in adn1) or ('G' in adn1) or ('T' in adn1))\n",
        "assert(('A' in adn2) or ('C' in adn2) or ('G' in adn2) or ('T' in adn2))\n",
        "assert(not(adn1==adn2))\n",
        "assert(not(secuencia_contiene_letras_que_no_son_acgt(adn1)))\n",
        "assert(not(secuencia_contiene_letras_que_no_son_acgt(adn2)))"
      ]
    },
    {
      "cell_type": "markdown",
      "metadata": {
        "id": "7MdQ1pCCZ0Hn"
      },
      "source": [
        "## Ejercicio de ampliación III (1 punto)\n",
        "\n",
        "Como hemos visto en clase, es posible añadir los tipos de las funciones en Python; sin embargo, en el código anterior todas las funciones están sin tipar. El tercer ejercicio de ampliación consiste en añadir todos los tipos de entrada y salida de las funciones definidas en la práctica. \n",
        "\n",
        "Para comprobar si los tipos proporcionados son los correctos debes usar la librería [mypy](http://mypy-lang.org/) y la [celda mágica](https://ipython.readthedocs.io/en/stable/interactive/magics.html) [typecheck](https://gist.github.com/knowsuchagency/f7b2203dd613756a45f816d6809f01a6). Para utilizar dicha funcionalidad debes comenzar descargando las librerías y código necesario."
      ]
    },
    {
      "cell_type": "code",
      "execution_count": 97,
      "metadata": {
        "id": "w7JLTLsoZ0Hp",
        "colab": {
          "base_uri": "https://localhost:8080/"
        },
        "outputId": "1c44897d-d887-4fe8-c85c-911491d33ac5"
      },
      "outputs": [
        {
          "output_type": "stream",
          "name": "stdout",
          "text": [
            "Looking in indexes: https://pypi.org/simple, https://us-python.pkg.dev/colab-wheels/public/simple/\n",
            "Collecting mypy\n",
            "  Downloading mypy-1.2.0-cp39-cp39-manylinux_2_17_x86_64.manylinux2014_x86_64.whl (12.2 MB)\n",
            "\u001b[2K     \u001b[90m━━━━━━━━━━━━━━━━━━━━━━━━━━━━━━━━━━━━━━━━\u001b[0m \u001b[32m12.2/12.2 MB\u001b[0m \u001b[31m61.8 MB/s\u001b[0m eta \u001b[36m0:00:00\u001b[0m\n",
            "\u001b[?25hRequirement already satisfied: tomli>=1.1.0 in /usr/local/lib/python3.9/dist-packages (from mypy) (2.0.1)\n",
            "Requirement already satisfied: typing-extensions>=3.10 in /usr/local/lib/python3.9/dist-packages (from mypy) (4.5.0)\n",
            "Collecting mypy-extensions>=1.0.0\n",
            "  Downloading mypy_extensions-1.0.0-py3-none-any.whl (4.7 kB)\n",
            "Installing collected packages: mypy-extensions, mypy\n",
            "Successfully installed mypy-1.2.0 mypy-extensions-1.0.0\n",
            "--2023-04-14 10:15:49--  https://raw.githubusercontent.com/IA1920/Utils/master/typecheck.py\n",
            "Resolving raw.githubusercontent.com (raw.githubusercontent.com)... 185.199.108.133, 185.199.109.133, 185.199.110.133, ...\n",
            "Connecting to raw.githubusercontent.com (raw.githubusercontent.com)|185.199.108.133|:443... connected.\n",
            "HTTP request sent, awaiting response... 200 OK\n",
            "Length: 1633 (1.6K) [text/plain]\n",
            "Saving to: ‘typecheck.py’\n",
            "\n",
            "typecheck.py        100%[===================>]   1.59K  --.-KB/s    in 0s      \n",
            "\n",
            "2023-04-14 10:15:49 (23.5 MB/s) - ‘typecheck.py’ saved [1633/1633]\n",
            "\n"
          ]
        }
      ],
      "source": [
        "!pip install mypy\n",
        "!wget https://raw.githubusercontent.com/IA1920/Utils/master/typecheck.py"
      ]
    },
    {
      "cell_type": "markdown",
      "metadata": {
        "id": "oNKxu-lRZ0Hs"
      },
      "source": [
        "Cargamos la funcionalidad necesaria."
      ]
    },
    {
      "cell_type": "code",
      "execution_count": 98,
      "metadata": {
        "id": "s-q12IezZ0Hs"
      },
      "outputs": [],
      "source": [
        "from typecheck import *"
      ]
    },
    {
      "cell_type": "markdown",
      "metadata": {
        "id": "tfYBd9MiZ0Hv"
      },
      "source": [
        "Ahora puedes comprobar si los tipos proporcionados a la función son los correctos del siguiente modo (lo importante es incluir ``%%typecheck`` al principio de la celda). A continuación se muestran unos cuantos ejemplos y los errores que se pueden producir."
      ]
    },
    {
      "cell_type": "code",
      "execution_count": 102,
      "metadata": {
        "id": "cUdYYRBUZ0Hw",
        "colab": {
          "base_uri": "https://localhost:8080/"
        },
        "outputId": "98c4406e-9220-40c9-a030-6d6b9ebbb89d"
      },
      "outputs": [
        {
          "output_type": "stream",
          "name": "stdout",
          "text": [
            "Success: no issues found in 1 source file\n",
            "\n"
          ]
        }
      ],
      "source": [
        "%%typecheck\n",
        "def mas3(x:int)->int:\n",
        "    return x+3"
      ]
    },
    {
      "cell_type": "code",
      "execution_count": 103,
      "metadata": {
        "id": "fvnsIZV_Z0Hy",
        "colab": {
          "base_uri": "https://localhost:8080/"
        },
        "outputId": "34f12dd4-9d53-489d-df36-e283a7cc5756"
      },
      "outputs": [
        {
          "output_type": "stream",
          "name": "stdout",
          "text": [
            "<string>:2: error: Missing return statement  [return]\n",
            "Found 1 error in 1 file (checked 1 source file)\n",
            "\n"
          ]
        }
      ],
      "source": [
        "%%typecheck\n",
        "def mas4(x:int)->int:\n",
        "    x+4"
      ]
    },
    {
      "cell_type": "code",
      "execution_count": 104,
      "metadata": {
        "id": "aqkoiEnJZ0H2",
        "colab": {
          "base_uri": "https://localhost:8080/"
        },
        "outputId": "bdd6c231-7abc-40fe-dc8d-e54c23fd129e"
      },
      "outputs": [
        {
          "output_type": "stream",
          "name": "stdout",
          "text": [
            "<string>:3: error: Incompatible return value type (got \"int\", expected \"bool\")  [return-value]\n",
            "Found 1 error in 1 file (checked 1 source file)\n",
            "\n"
          ]
        }
      ],
      "source": [
        "%%typecheck\n",
        "def mas4(x:int)->bool:\n",
        "    return x+4"
      ]
    },
    {
      "cell_type": "code",
      "source": [],
      "metadata": {
        "id": "zBXA1VndR5BU"
      },
      "execution_count": null,
      "outputs": []
    },
    {
      "cell_type": "markdown",
      "metadata": {
        "id": "fgQfFl8VZ0H4"
      },
      "source": [
        "Añade los tipos a las funciones definidas a lo largo de la práctica y comprueba que dichos tipos son correctos. "
      ]
    },
    {
      "cell_type": "markdown",
      "metadata": {
        "id": "Xa00ihS8Z0H5"
      },
      "source": [
        "## Entrega\n",
        "\n",
        "Recuerda guardar este notebook en tu repositorio."
      ]
    }
  ],
  "metadata": {
    "colab": {
      "name": "practica1.ipynb",
      "provenance": []
    },
    "kernelspec": {
      "display_name": "Python 3 (ipykernel)",
      "language": "python",
      "name": "python3"
    },
    "language_info": {
      "codemirror_mode": {
        "name": "ipython",
        "version": 3
      },
      "file_extension": ".py",
      "mimetype": "text/x-python",
      "name": "python",
      "nbconvert_exporter": "python",
      "pygments_lexer": "ipython3",
      "version": "3.8.10"
    }
  },
  "nbformat": 4,
  "nbformat_minor": 0
}